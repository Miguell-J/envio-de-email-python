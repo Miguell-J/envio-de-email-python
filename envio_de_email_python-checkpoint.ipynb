{
 "cells": [
  {
   "cell_type": "code",
   "execution_count": 97,
   "id": "de391b3f",
   "metadata": {},
   "outputs": [],
   "source": [
    "# bot para envio de email com pyautogui\n",
    "\n",
    "import pyautogui as pygui\n",
    "import time"
   ]
  },
  {
   "cell_type": "code",
   "execution_count": 98,
   "id": "0938ae29",
   "metadata": {},
   "outputs": [],
   "source": [
    "# 1 passo: abrir o navegador(Chrome)\n",
    "pygui.press('Win')\n",
    "time.sleep(0.5)\n",
    "pygui.write('Chrome')\n",
    "time.sleep(1)\n",
    "pygui.press('enter')\n",
    "time.sleep(1)"
   ]
  },
  {
   "cell_type": "code",
   "execution_count": 99,
   "id": "523eb679",
   "metadata": {},
   "outputs": [],
   "source": [
    "# 2 passo: abrir o gmail\n",
    "pygui.write('Gmail.com')\n",
    "time.sleep(0.7)\n",
    "pygui.press('enter')\n",
    "time.sleep(4)"
   ]
  },
  {
   "cell_type": "code",
   "execution_count": 100,
   "id": "859a08a2",
   "metadata": {},
   "outputs": [],
   "source": [
    "# 3 passo: escrever e enviar a mensagem\n",
    "pygui.click(x=101, y=258)\n",
    "time.sleep(4)\n",
    "pygui.write('seu email')\n",
    "time.sleep(1)\n",
    "pygui.press('enter')\n",
    "time.sleep(1)\n",
    "pygui.press('tab')\n",
    "time.sleep(1)\n",
    "pygui.write('apenas um teste')\n",
    "time.sleep(1)\n",
    "pygui.press('enter')\n",
    "time.sleep(1)\n",
    "pygui.press('tab')\n",
    "time.sleep(1)\n",
    "pygui.write('Olá')\n",
    "time.sleep(1)\n",
    "pygui.hotkey('ctrl', 'enter')"
   ]
  },
  {
   "cell_type": "code",
   "execution_count": 101,
   "id": "0f6fd4be",
   "metadata": {},
   "outputs": [
    {
     "name": "stdout",
     "output_type": "stream",
     "text": [
      "Point(x=101, y=258)\n"
     ]
    }
   ],
   "source": [
    "# verificar a posição do mouse na tela(x,y)\n",
    "time.sleep(5)\n",
    "posicao = pygui.position()\n",
    "print(posicao)"
   ]
  }
 ],
 "metadata": {
  "kernelspec": {
   "display_name": "Python 3 (ipykernel)",
   "language": "python",
   "name": "python3"
  },
  "language_info": {
   "codemirror_mode": {
    "name": "ipython",
    "version": 3
   },
   "file_extension": ".py",
   "mimetype": "text/x-python",
   "name": "python",
   "nbconvert_exporter": "python",
   "pygments_lexer": "ipython3",
   "version": "3.7.16"
  }
 },
 "nbformat": 4,
 "nbformat_minor": 5
}
